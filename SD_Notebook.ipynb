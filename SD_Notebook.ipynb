{
  "cells": [
    {
      "cell_type": "markdown",
      "metadata": {
        "id": "rlZ1Gtrsog1k"
      },
      "source": [
        "The reference Collab Guide: https://colab.research.google.com/drive/1n5yCFsn9a76rNDx6dnwgdFLLoUIZATSS#scrollTo=8TRAh8G6sNfA\n",
        "\n",
        "The reference repositories: \n",
        "Original: https://colab.research.google.com/github/huggingface/notebooks/blob/main/diffusers/stable_diffusion.ipynb#scrollTo=Ylscg48YYxfF\n",
        "\n",
        "My copy: https://github.com/huggingface/diffusers/tree/main#new--stable-diffusion-is-now-fully-compatible-with-diffusers\n",
        "\n",
        "The image editing library: https://pillow.readthedocs.io/en/stable/index.html"
      ]
    },
    {
      "cell_type": "code",
      "execution_count": null,
      "metadata": {
        "id": "3mXQvzQvNFOz"
      },
      "outputs": [],
      "source": [
        "!nvidia-smi"
      ]
    },
    {
      "cell_type": "code",
      "execution_count": null,
      "metadata": {
        "id": "oDLO7xn_NP-b"
      },
      "outputs": [],
      "source": [
        "!pip install diffusers==0.9.0\n",
        "!pip install transformers scipy ftfy\n",
        "!pip install \"ipywidgets>=7,<8\"\n",
        "!pip install accelerate"
      ]
    },
    {
      "cell_type": "code",
      "execution_count": 24,
      "metadata": {
        "id": "SSR1GBmGNhcx"
      },
      "outputs": [],
      "source": [
        "from google.colab import output\n",
        "output.enable_custom_widget_manager()"
      ]
    },
    {
      "cell_type": "code",
      "execution_count": null,
      "metadata": {
        "id": "ybnesn51O2lL"
      },
      "outputs": [],
      "source": [
        "from huggingface_hub import notebook_login\n",
        "\n",
        "notebook_login()"
      ]
    },
    {
      "cell_type": "code",
      "execution_count": null,
      "metadata": {
        "id": "T3I2ySs0VgdH"
      },
      "outputs": [],
      "source": [
        "from diffusers import StableDiffusionPipeline\n",
        "import torch\n",
        "\n",
        "model_id = \"runwayml/stable-diffusion-v1-5\"\n",
        "pipe = StableDiffusionPipeline.from_pretrained(model_id, revision=\"fp16\", torch_dtype=torch.float16, use_auth_token=True)\n",
        "pipe = pipe.to(\"cuda\")\n",
        "\n",
        "#prompt = \"a photo of an astronaut riding a horse on mars\"\n",
        "#image = pipe(prompt).images[0]  \n",
        "    \n",
        "#image.save(\"astronaut_rides_horse.png\")"
      ]
    },
    {
      "cell_type": "code",
      "execution_count": 27,
      "metadata": {
        "id": "Ap2ydQbKQL_7"
      },
      "outputs": [],
      "source": [
        "from PIL import Image\n",
        "from torch import autocast\n",
        "def image_grid(imgs, rows, cols):\n",
        "    assert len(imgs) == rows*cols\n",
        "\n",
        "    w, h = imgs[0].size\n",
        "    grid = Image.new('RGB', size=(cols*w, rows*h))\n",
        "    grid_w, grid_h = grid.size\n",
        "    \n",
        "    for i, img in enumerate(imgs):\n",
        "        grid.paste(img, box=(i%cols*w, i//cols*h))\n",
        "    return grid"
      ]
    },
    {
      "cell_type": "code",
      "execution_count": null,
      "metadata": {
        "id": "nZytNnVMbP8Y"
      },
      "outputs": [],
      "source": [
        "num_cols = 2\n",
        "num_rows = 2\n",
        "\n",
        "prompt = [\"an image of a person enjoying a refreshing drink from a durable, high-quality water bottle. The bottle should be prominently featured, with a clear and attractive design. The background should be a vibrant outdoor setting, and the image should be in 4k resolution for optimal printing and display.\"] * num_cols\n",
        "\n",
        "all_images = []\n",
        "for i in range(num_rows):\n",
        "  images = pipe(prompt).images\n",
        "  all_images.extend(images)\n",
        "\n",
        "grid = image_grid(all_images, rows=num_rows, cols=num_cols)\n",
        "grid"
      ]
    },
    {
      "cell_type": "code",
      "execution_count": null,
      "metadata": {
        "id": "mgE-4wST7P1x"
      },
      "outputs": [],
      "source": [
        "#Print one of the 4 images seperately\n",
        "with grid as im:\n",
        "\n",
        "    # The crop method from the Image module takes four coordinates as input.\n",
        "    # The right can also be represented as (left+width)\n",
        "    # and lower can be represented as (upper+height).\n",
        "    (left1, upper1, right1, lower1) = (0, 0, 512, 512)\n",
        "    (left2, upper2, right2, lower2) = (512,0,1024,512)\n",
        "    (left3, upper3, right3, lower3) = (0,512,512,1024)\n",
        "    (left4, upper4, right4, lower4) = (512,512,1024,1024)\n",
        "\n",
        "im_first = im.crop((left1, upper1, right1, lower1))\n",
        "im_second = im.crop((left2, upper2, right2, lower2))\n",
        "im_third = im.crop((left3, upper3, right3, lower3))\n",
        "im_fourth = im.crop((left4, upper4, right4, lower4))\n",
        "\n",
        "#print = im_first\n",
        "#print = im_second\n",
        "#print = im_third\n",
        "print = im_fourth\n",
        "print"
      ]
    }
  ],
  "metadata": {
    "accelerator": "GPU",
    "colab": {
      "provenance": [],
      "authorship_tag": "ABX9TyMblSKUTjk7OSNTr5dJztIz"
    },
    "gpuClass": "standard",
    "kernelspec": {
      "display_name": "Python 3",
      "name": "python3"
    },
    "language_info": {
      "name": "python"
    }
  },
  "nbformat": 4,
  "nbformat_minor": 0
}